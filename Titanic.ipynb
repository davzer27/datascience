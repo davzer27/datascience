{
 "cells": [
  {
   "cell_type": "markdown",
   "metadata": {
    "_cell_guid": "08a2e33f-4425-ea4b-3fd7-ca06f28275be"
   },
   "source": [
    "# Titanic dataset exploration and survival prediction"
   ]
  },
  {
   "cell_type": "code",
   "execution_count": 1,
   "metadata": {
    "_cell_guid": "c1c1eed9-780a-8862-10b6-3df4d25f99ef",
    "collapsed": false
   },
   "outputs": [
    {
     "name": "stderr",
     "output_type": "stream",
     "text": [
      "/Users/davidzerah/anaconda/lib/python3.6/site-packages/sklearn/cross_validation.py:44: DeprecationWarning: This module was deprecated in version 0.18 in favor of the model_selection module into which all the refactored classes and functions are moved. Also note that the interface of the new CV iterators are different from that of this module. This module will be removed in 0.20.\n",
      "  \"This module will be removed in 0.20.\", DeprecationWarning)\n",
      "/Users/davidzerah/anaconda/lib/python3.6/site-packages/sklearn/grid_search.py:43: DeprecationWarning: This module was deprecated in version 0.18 in favor of the model_selection module into which all the refactored classes and functions are moved. This module will be removed in 0.20.\n",
      "  DeprecationWarning)\n"
     ]
    }
   ],
   "source": [
    "%matplotlib inline\n",
    "import pandas as pd\n",
    "import numpy as np\n",
    "from matplotlib import pyplot as plt\n",
    "import seaborn as sns\n",
    "from sklearn import preprocessing, grid_search, metrics, linear_model, neighbors, svm, ensemble"
   ]
  },
  {
   "cell_type": "markdown",
   "metadata": {
    "_cell_guid": "18e0eb41-2722-dcd5-66bc-5d13e55e53e6"
   },
   "source": [
    "## Reading data"
   ]
  },
  {
   "cell_type": "code",
   "execution_count": 2,
   "metadata": {
    "_cell_guid": "2498f1a4-8944-8d93-af9a-587c5d61b4bc",
    "collapsed": false
   },
   "outputs": [],
   "source": [
    "data_train = pd.read_csv('train.csv')\n",
    "data_test = pd.read_csv('test.csv')"
   ]
  },
  {
   "cell_type": "code",
   "execution_count": 3,
   "metadata": {
    "_cell_guid": "3fb48412-de0a-021e-aef3-955df10c9e68",
    "collapsed": false
   },
   "outputs": [
    {
     "data": {
      "text/html": [
       "<div>\n",
       "<table border=\"1\" class=\"dataframe\">\n",
       "  <thead>\n",
       "    <tr style=\"text-align: right;\">\n",
       "      <th></th>\n",
       "      <th>PassengerId</th>\n",
       "      <th>Survived</th>\n",
       "      <th>Pclass</th>\n",
       "      <th>Name</th>\n",
       "      <th>Sex</th>\n",
       "      <th>Age</th>\n",
       "      <th>SibSp</th>\n",
       "      <th>Parch</th>\n",
       "      <th>Ticket</th>\n",
       "      <th>Fare</th>\n",
       "      <th>Cabin</th>\n",
       "      <th>Embarked</th>\n",
       "    </tr>\n",
       "  </thead>\n",
       "  <tbody>\n",
       "    <tr>\n",
       "      <th>0</th>\n",
       "      <td>1</td>\n",
       "      <td>0</td>\n",
       "      <td>3</td>\n",
       "      <td>Braund, Mr. Owen Harris</td>\n",
       "      <td>male</td>\n",
       "      <td>22.0</td>\n",
       "      <td>1</td>\n",
       "      <td>0</td>\n",
       "      <td>A/5 21171</td>\n",
       "      <td>7.2500</td>\n",
       "      <td>NaN</td>\n",
       "      <td>S</td>\n",
       "    </tr>\n",
       "    <tr>\n",
       "      <th>1</th>\n",
       "      <td>2</td>\n",
       "      <td>1</td>\n",
       "      <td>1</td>\n",
       "      <td>Cumings, Mrs. John Bradley (Florence Briggs Th...</td>\n",
       "      <td>female</td>\n",
       "      <td>38.0</td>\n",
       "      <td>1</td>\n",
       "      <td>0</td>\n",
       "      <td>PC 17599</td>\n",
       "      <td>71.2833</td>\n",
       "      <td>C85</td>\n",
       "      <td>C</td>\n",
       "    </tr>\n",
       "    <tr>\n",
       "      <th>2</th>\n",
       "      <td>3</td>\n",
       "      <td>1</td>\n",
       "      <td>3</td>\n",
       "      <td>Heikkinen, Miss. Laina</td>\n",
       "      <td>female</td>\n",
       "      <td>26.0</td>\n",
       "      <td>0</td>\n",
       "      <td>0</td>\n",
       "      <td>STON/O2. 3101282</td>\n",
       "      <td>7.9250</td>\n",
       "      <td>NaN</td>\n",
       "      <td>S</td>\n",
       "    </tr>\n",
       "    <tr>\n",
       "      <th>3</th>\n",
       "      <td>4</td>\n",
       "      <td>1</td>\n",
       "      <td>1</td>\n",
       "      <td>Futrelle, Mrs. Jacques Heath (Lily May Peel)</td>\n",
       "      <td>female</td>\n",
       "      <td>35.0</td>\n",
       "      <td>1</td>\n",
       "      <td>0</td>\n",
       "      <td>113803</td>\n",
       "      <td>53.1000</td>\n",
       "      <td>C123</td>\n",
       "      <td>S</td>\n",
       "    </tr>\n",
       "    <tr>\n",
       "      <th>4</th>\n",
       "      <td>5</td>\n",
       "      <td>0</td>\n",
       "      <td>3</td>\n",
       "      <td>Allen, Mr. William Henry</td>\n",
       "      <td>male</td>\n",
       "      <td>35.0</td>\n",
       "      <td>0</td>\n",
       "      <td>0</td>\n",
       "      <td>373450</td>\n",
       "      <td>8.0500</td>\n",
       "      <td>NaN</td>\n",
       "      <td>S</td>\n",
       "    </tr>\n",
       "  </tbody>\n",
       "</table>\n",
       "</div>"
      ],
      "text/plain": [
       "   PassengerId  Survived  Pclass  \\\n",
       "0            1         0       3   \n",
       "1            2         1       1   \n",
       "2            3         1       3   \n",
       "3            4         1       1   \n",
       "4            5         0       3   \n",
       "\n",
       "                                                Name     Sex   Age  SibSp  \\\n",
       "0                            Braund, Mr. Owen Harris    male  22.0      1   \n",
       "1  Cumings, Mrs. John Bradley (Florence Briggs Th...  female  38.0      1   \n",
       "2                             Heikkinen, Miss. Laina  female  26.0      0   \n",
       "3       Futrelle, Mrs. Jacques Heath (Lily May Peel)  female  35.0      1   \n",
       "4                           Allen, Mr. William Henry    male  35.0      0   \n",
       "\n",
       "   Parch            Ticket     Fare Cabin Embarked  \n",
       "0      0         A/5 21171   7.2500   NaN        S  \n",
       "1      0          PC 17599  71.2833   C85        C  \n",
       "2      0  STON/O2. 3101282   7.9250   NaN        S  \n",
       "3      0            113803  53.1000  C123        S  \n",
       "4      0            373450   8.0500   NaN        S  "
      ]
     },
     "execution_count": 3,
     "metadata": {},
     "output_type": "execute_result"
    }
   ],
   "source": [
    "data_train.head()"
   ]
  },
  {
   "cell_type": "code",
   "execution_count": 4,
   "metadata": {
    "_cell_guid": "9b341414-515f-8402-6de3-a763124821e0",
    "collapsed": false
   },
   "outputs": [
    {
     "name": "stdout",
     "output_type": "stream",
     "text": [
      "<class 'pandas.core.frame.DataFrame'>\n",
      "RangeIndex: 891 entries, 0 to 890\n",
      "Data columns (total 12 columns):\n",
      "PassengerId    891 non-null int64\n",
      "Survived       891 non-null int64\n",
      "Pclass         891 non-null int64\n",
      "Name           891 non-null object\n",
      "Sex            891 non-null object\n",
      "Age            714 non-null float64\n",
      "SibSp          891 non-null int64\n",
      "Parch          891 non-null int64\n",
      "Ticket         891 non-null object\n",
      "Fare           891 non-null float64\n",
      "Cabin          204 non-null object\n",
      "Embarked       889 non-null object\n",
      "dtypes: float64(2), int64(5), object(5)\n",
      "memory usage: 83.6+ KB\n",
      "None\n",
      "<class 'pandas.core.frame.DataFrame'>\n",
      "RangeIndex: 418 entries, 0 to 417\n",
      "Data columns (total 11 columns):\n",
      "PassengerId    418 non-null int64\n",
      "Pclass         418 non-null int64\n",
      "Name           418 non-null object\n",
      "Sex            418 non-null object\n",
      "Age            332 non-null float64\n",
      "SibSp          418 non-null int64\n",
      "Parch          418 non-null int64\n",
      "Ticket         418 non-null object\n",
      "Fare           417 non-null float64\n",
      "Cabin          91 non-null object\n",
      "Embarked       418 non-null object\n",
      "dtypes: float64(2), int64(4), object(5)\n",
      "memory usage: 36.0+ KB\n",
      "None\n"
     ]
    }
   ],
   "source": [
    "print(data_train.info())\n",
    "print(data_test.info())"
   ]
  },
  {
   "cell_type": "markdown",
   "metadata": {
    "_cell_guid": "1f518fb6-122e-8bb3-7210-cf86b98acb32"
   },
   "source": [
    "## Analyzing dataset features"
   ]
  },
  {
   "cell_type": "markdown",
   "metadata": {
    "_cell_guid": "7a34607c-833d-5a48-60c2-da715c63da2b"
   },
   "source": [
    "The dataset has features that identifies a passenger, these features (PassengerId, Name, Ticket) do not influence the output result. So we can remove them from dataset"
   ]
  },
  {
   "cell_type": "code",
   "execution_count": 5,
   "metadata": {
    "_cell_guid": "429d7313-dd91-8804-4688-6b53187c6a40",
    "collapsed": true
   },
   "outputs": [],
   "source": [
    "# save PassengerId from test dataset to put in the results later\n",
    "pass_ids = data_test[['PassengerId']]\n",
    "# remove PassengerId field that unique for every passenger\n",
    "data_train = data_train.drop(['PassengerId', 'Name', 'Ticket'], axis=1)\n",
    "data_test = data_test.drop(['PassengerId', 'Name', 'Ticket'], axis=1)"
   ]
  },
  {
   "cell_type": "markdown",
   "metadata": {
    "_cell_guid": "e36cbe13-e437-f707-b88b-247dd97fcbfa"
   },
   "source": [
    "The dataset has two numerical features (Age and Fare), the rest are categorial features. Let's analyze each feature and it's impact on the result value (Survival)."
   ]
  },
  {
   "cell_type": "markdown",
   "metadata": {
    "_cell_guid": "b1aba19c-a8e5-acc9-6538-1b1871f011b1"
   },
   "source": [
    "### Survived (data label)"
   ]
  },
  {
   "cell_type": "code",
   "execution_count": 6,
   "metadata": {
    "_cell_guid": "d5ff3436-1e4e-8609-cb3b-459a2ceeb0ad",
    "collapsed": false
   },
   "outputs": [
    {
     "data": {
      "text/plain": [
       "0    549\n",
       "1    342\n",
       "Name: Survived, dtype: int64"
      ]
     },
     "execution_count": 6,
     "metadata": {},
     "output_type": "execute_result"
    }
   ],
   "source": [
    "data_train.Survived.value_counts()"
   ]
  },
  {
   "cell_type": "markdown",
   "metadata": {
    "_cell_guid": "85249747-13b9-6e9d-dcb4-907ae17cea14"
   },
   "source": [
    "### Pclass (passenger class)"
   ]
  },
  {
   "cell_type": "code",
   "execution_count": 7,
   "metadata": {
    "_cell_guid": "5ae1da52-0980-3ee6-8ef3-00ec82ae1e76",
    "collapsed": true
   },
   "outputs": [],
   "source": [
    "# as class is categorical feature we can make its type as string\n",
    "data_train['Pclass'] = data_train['Pclass'].astype(str)"
   ]
  },
  {
   "cell_type": "code",
   "execution_count": 8,
   "metadata": {
    "_cell_guid": "b61690b5-b699-e5bf-9783-3a7f26425d0c",
    "collapsed": false
   },
   "outputs": [
    {
     "name": "stdout",
     "output_type": "stream",
     "text": [
      "1    216\n",
      "2    184\n",
      "3    491\n",
      "Name: Pclass, dtype: int64\n"
     ]
    }
   ],
   "source": [
    "# possible class values\n",
    "print(data_train['Pclass'].value_counts().sort_index())"
   ]
  },
  {
   "cell_type": "code",
   "execution_count": 9,
   "metadata": {
    "_cell_guid": "de39ed87-c443-2dd5-b342-df3f57923c22",
    "collapsed": false
   },
   "outputs": [
    {
     "data": {
      "text/plain": [
       "[<matplotlib.text.Text at 0x115859e10>, <matplotlib.text.Text at 0x115859a58>]"
      ]
     },
     "execution_count": 9,
     "metadata": {},
     "output_type": "execute_result"
    },
    {
     "data": {
      "image/png": "[encoded data removed]",
      "text/plain": [
       "<matplotlib.figure.Figure at 0x115792908>"
      ]
     },
     "metadata": {},
     "output_type": "display_data"
    }
   ],
   "source": [
    "fig, axes = plt.subplots(nrows=1, ncols=3, figsize=(9, 3))\n",
    "\n",
    "subplt = data_train[data_train.Pclass=='1']['Survived'].value_counts().sort_index().plot(kind='bar', ax=axes[0], color='blue')\n",
    "subplt.set_title('Class 1')\n",
    "subplt.set_ylabel('count')\n",
    "subplt.set_xticklabels(['Died', 'Survived'])\n",
    "\n",
    "subplt = data_train[data_train.Pclass=='2']['Survived'].value_counts().sort_index().plot(kind='bar', ax=axes[1], color='green')\n",
    "subplt.set_title('Class 2')\n",
    "subplt.set_ylabel('count')\n",
    "subplt.set_xticklabels(['Died', 'Survived'])\n",
    "\n",
    "subplt = data_train[data_train.Pclass=='3']['Survived'].value_counts().sort_index().plot(kind='bar', ax=axes[2], color='pink')\n",
    "subplt.set_title('Class 3')\n",
    "subplt.set_ylabel('count')\n",
    "subplt.set_xticklabels(['Died', 'Survived'])"
   ]
  },
  {
   "cell_type": "markdown",
   "metadata": {
    "_cell_guid": "08b508db-b928-af2d-42de-1e4270d3012e"
   },
   "source": [
    "We can see that there's a survival dependency on the passenger class. Passengers of higher class had a higher chance of survival."
   ]
  },
  {
   "cell_type": "markdown",
   "metadata": {
    "_cell_guid": "9ab7de64-1bf7-4a83-d516-fcac4f2fd94c"
   },
   "source": [
    "### Sex"
   ]
  },
  {
   "cell_type": "code",
   "execution_count": 10,
   "metadata": {
    "_cell_guid": "f80af27f-3d24-0a3d-1804-0d041d0ad94e",
    "collapsed": false
   },
   "outputs": [
    {
     "data": {
      "text/plain": [
       "[<matplotlib.text.Text at 0x11808be10>, <matplotlib.text.Text at 0x11808bda0>]"
      ]
     },
     "execution_count": 10,
     "metadata": {},
     "output_type": "execute_result"
    },
    {
     "data": {
      "image/png": "[encoded data removed]",
      "text/plain": [
       "<matplotlib.figure.Figure at 0x117f5b2e8>"
      ]
     },
     "metadata": {},
     "output_type": "display_data"
    }
   ],
   "source": [
    "fig, axes = plt.subplots(nrows=1, ncols=2, figsize=(8, 3))\n",
    "\n",
    "subplt = data_train[data_train.Sex=='male']['Survived'].value_counts().sort_index().plot(kind='bar', ax=axes[0], color='blue')\n",
    "subplt.set_title('Male')\n",
    "subplt.set_ylabel('count')\n",
    "subplt.set_xticklabels(['Died', 'Survived'])\n",
    "\n",
    "subplt = data_train[data_train.Sex=='female']['Survived'].value_counts().sort_index().plot(kind='bar', ax=axes[1], color='green')\n",
    "subplt.set_title('Female')\n",
    "subplt.set_ylabel('count')\n",
    "subplt.set_xticklabels(['Died', 'Survived'])"
   ]
  },
  {
   "cell_type": "markdown",
   "metadata": {
    "_cell_guid": "6fcd975d-4567-bb48-0dea-8d74faf12f1f"
   },
   "source": [
    "Females had a much bigger chance of survival"
   ]
  },
  {
   "cell_type": "markdown",
   "metadata": {
    "_cell_guid": "cddf2a8c-89fd-563d-fb2b-fc061b3964b9"
   },
   "source": [
    "### Age"
   ]
  },
  {
   "cell_type": "code",
   "execution_count": 11,
   "metadata": {
    "_cell_guid": "f309b36f-a4e8-8fdb-4909-5d51c2f1e876",
    "collapsed": false
   },
   "outputs": [
    {
     "data": {
      "text/plain": [
       "<matplotlib.text.Text at 0x11813ce10>"
      ]
     },
     "execution_count": 11,
     "metadata": {},
     "output_type": "execute_result"
    },
    {
     "data": {
      "image/png": "[encoded data removed]",
      "text/plain": [
       "<matplotlib.figure.Figure at 0x117e23908>"
      ]
     },
     "metadata": {},
     "output_type": "display_data"
    }
   ],
   "source": [
    "axis = data_train['Age'].dropna().astype(int).plot(kind='hist', bins=80)\n",
    "axis.set_title('Age distribution')"
   ]
  },
  {
   "cell_type": "markdown",
   "metadata": {
    "_cell_guid": "3f82ecf4-0845-6e2d-6de1-e6d44f059fb8"
   },
   "source": [
    "Let's fill NaN age with random values (normally distributed with mean and standard deviation of the known age distribution) "
   ]
  },
  {
   "cell_type": "code",
   "execution_count": 12,
   "metadata": {
    "_cell_guid": "c842b8cc-38fb-db7c-8aca-f6ee1d4dc37a",
    "collapsed": false
   },
   "outputs": [
    {
     "name": "stdout",
     "output_type": "stream",
     "text": [
      "Mean: 29.69911764705882, standard deviation: 14.526497332334044\n"
     ]
    },
    {
     "name": "stderr",
     "output_type": "stream",
     "text": [
      "/Users/davidzerah/anaconda/lib/python3.6/site-packages/ipykernel/__main__.py:7: SettingWithCopyWarning: \n",
      "A value is trying to be set on a copy of a slice from a DataFrame\n",
      "\n",
      "See the caveats in the documentation: http://pandas.pydata.org/pandas-docs/stable/indexing.html#indexing-view-versus-copy\n"
     ]
    }
   ],
   "source": [
    "# train data\n",
    "mean_age = data_train['Age'].mean()\n",
    "std_age = data_train['Age'].std()\n",
    "print('Mean: {}, standard deviation: {}'.format(mean_age, std_age))\n",
    "tofillwith = np.floor(np.random.normal(mean_age, std_age, data_train['Age'].isnull().sum()))\n",
    "tofillwith[tofillwith < 0] = 0 # random value can be negative\n",
    "data_train['Age'][pd.isnull(data_train[\"Age\"])] = tofillwith"
   ]
  },
  {
   "cell_type": "code",
   "execution_count": 13,
   "metadata": {
    "_cell_guid": "9658cff0-7cc1-5f0e-fec7-aa63258a921f",
    "collapsed": false
   },
   "outputs": [
    {
     "data": {
      "text/plain": [
       "<matplotlib.text.Text at 0x1183ba0b8>"
      ]
     },
     "execution_count": 13,
     "metadata": {},
     "output_type": "execute_result"
    },
    {
     "data": {
      "image/png": "[encoded data removed]",
      "text/plain": [
       "<matplotlib.figure.Figure at 0x11812bb00>"
      ]
     },
     "metadata": {},
     "output_type": "display_data"
    }
   ],
   "source": [
    "# check new distribution\n",
    "axis = data_train['Age'].astype(int).plot(kind='hist', bins=80)\n",
    "axis.set_title('Age distribution')"
   ]
  },
  {
   "cell_type": "code",
   "execution_count": 14,
   "metadata": {
    "_cell_guid": "2419808d-024f-ebcf-f452-6888bbe76273",
    "collapsed": false
   },
   "outputs": [
    {
     "name": "stdout",
     "output_type": "stream",
     "text": [
      "Mean: 30.272590361445783, standard deviation: 14.18120923562442\n"
     ]
    },
    {
     "name": "stderr",
     "output_type": "stream",
     "text": [
      "/Users/davidzerah/anaconda/lib/python3.6/site-packages/ipykernel/__main__.py:7: SettingWithCopyWarning: \n",
      "A value is trying to be set on a copy of a slice from a DataFrame\n",
      "\n",
      "See the caveats in the documentation: http://pandas.pydata.org/pandas-docs/stable/indexing.html#indexing-view-versus-copy\n"
     ]
    }
   ],
   "source": [
    "# test data\n",
    "mean_age = data_test['Age'].mean()\n",
    "std_age = data_test['Age'].std()\n",
    "print('Mean: {}, standard deviation: {}'.format(mean_age, std_age))\n",
    "tofillwith = np.floor(np.random.normal(mean_age, std_age, data_test['Age'].isnull().sum()))\n",
    "tofillwith[tofillwith < 0] = 0 # random value can be negative\n",
    "data_test['Age'][pd.isnull(data_test[\"Age\"])] = tofillwith"
   ]
  },
  {
   "cell_type": "code",
   "execution_count": 15,
   "metadata": {
    "_cell_guid": "0eff7b56-15d4-f72a-3772-1281d86dfd4b",
    "collapsed": false
   },
   "outputs": [
    {
     "data": {
      "text/plain": [
       "<matplotlib.text.Text at 0x1187109e8>"
      ]
     },
     "execution_count": 15,
     "metadata": {},
     "output_type": "execute_result"
    },
    {
     "data": {
      "image/png": "[encoded data removed]",
      "text/plain": [
       "<matplotlib.figure.Figure at 0x11860fb38>"
      ]
     },
     "metadata": {},
     "output_type": "display_data"
    }
   ],
   "source": [
    "plt.figure(figsize=(9,3))\n",
    "data_train[data_train.Survived==1]['Age'].plot(kind='density', label='Survived')\n",
    "data_train[data_train.Survived==0]['Age'].plot(kind='density', label='Died')\n",
    "plt.xlabel('Age')\n",
    "plt.legend()\n",
    "plt.title('Age distribution')"
   ]
  },
  {
   "cell_type": "markdown",
   "metadata": {
    "_cell_guid": "417a8b04-1c3f-e685-d55b-24e488f2a358"
   },
   "source": [
    "### SibSp"
   ]
  },
  {
   "cell_type": "code",
   "execution_count": 16,
   "metadata": {
    "_cell_guid": "9959109c-f518-13e6-bd84-b9db381a1262",
    "collapsed": false
   },
   "outputs": [
    {
     "data": {
      "text/plain": [
       "0    608\n",
       "1    209\n",
       "2     28\n",
       "4     18\n",
       "3     16\n",
       "8      7\n",
       "5      5\n",
       "Name: SibSp, dtype: int64"
      ]
     },
     "execution_count": 16,
     "metadata": {},
     "output_type": "execute_result"
    }
   ],
   "source": [
    "data_train.SibSp.value_counts()"
   ]
  },
  {
   "cell_type": "code",
   "execution_count": 17,
   "metadata": {
    "_cell_guid": "311cd83f-6d90-9d12-e7ab-92d3e3c64fde",
    "collapsed": false
   },
   "outputs": [
    {
     "data": {
      "text/plain": [
       "<matplotlib.text.Text at 0x1188ad048>"
      ]
     },
     "execution_count": 17,
     "metadata": {},
     "output_type": "execute_result"
    },
    {
     "data": {
      "image/png": "[encoded data removed]",
      "text/plain": [
       "<matplotlib.figure.Figure at 0x118337128>"
      ]
     },
     "metadata": {},
     "output_type": "display_data"
    }
   ],
   "source": [
    "fig, axes = plt.subplots(nrows=1, ncols=2, figsize=(9, 3))\n",
    "ax1= sns.countplot(x='SibSp', data=data_train[data_train.Survived==1], ax=axes[0])\n",
    "ax2 = sns.countplot(x='SibSp', data=data_train[data_train.Survived==0], ax=axes[1])\n",
    "ax1.set_title('Survived')\n",
    "ax2.set_title('Died')"
   ]
  },
  {
   "cell_type": "markdown",
   "metadata": {
    "_cell_guid": "80f213b5-5478-6743-9860-61b024e233e6"
   },
   "source": [
    "### Parch"
   ]
  },
  {
   "cell_type": "code",
   "execution_count": 18,
   "metadata": {
    "_cell_guid": "2c676832-73cb-49d0-68a9-cf468ac81153",
    "collapsed": false
   },
   "outputs": [
    {
     "data": {
      "text/plain": [
       "0    678\n",
       "1    118\n",
       "2     80\n",
       "5      5\n",
       "3      5\n",
       "4      4\n",
       "6      1\n",
       "Name: Parch, dtype: int64"
      ]
     },
     "execution_count": 18,
     "metadata": {},
     "output_type": "execute_result"
    }
   ],
   "source": [
    "data_train.Parch.value_counts()"
   ]
  },
  {
   "cell_type": "code",
   "execution_count": 19,
   "metadata": {
    "_cell_guid": "a245ca7b-2d82-8abe-dcf2-85255af83c06",
    "collapsed": false
   },
   "outputs": [
    {
     "data": {
      "text/plain": [
       "<matplotlib.text.Text at 0x118a66588>"
      ]
     },
     "execution_count": 19,
     "metadata": {},
     "output_type": "execute_result"
    },
    {
     "data": {
      "image/png": "[encoded data removed]",
      "text/plain": [
       "<matplotlib.figure.Figure at 0x118947d68>"
      ]
     },
     "metadata": {},
     "output_type": "display_data"
    }
   ],
   "source": [
    "fig, axes = plt.subplots(nrows=1, ncols=2, figsize=(16, 5))\n",
    "ax1= sns.countplot(x='Parch', data=data_train[data_train.Survived==1], ax=axes[0])\n",
    "ax2 = sns.countplot(x='Parch', data=data_train[data_train.Survived==0], ax=axes[1])\n",
    "ax1.set_title('Survived')\n",
    "ax2.set_title('Died')"
   ]
  },
  {
   "cell_type": "code",
   "execution_count": 20,
   "metadata": {
    "_cell_guid": "a079b6c9-25e4-573a-e61c-debcffaf6a76",
    "collapsed": false
   },
   "outputs": [
    {
     "data": {
      "text/plain": [
       "<matplotlib.collections.PathCollection at 0x118cf0cf8>"
      ]
     },
     "execution_count": 20,
     "metadata": {},
     "output_type": "execute_result"
    },
    {
     "data": {
      "image/png": "[encoded data removed]",
      "text/plain": [
       "<matplotlib.figure.Figure at 0x118018908>"
      ]
     },
     "metadata": {},
     "output_type": "display_data"
    }
   ],
   "source": [
    "# Check dependency of SibSp and Parch features\n",
    "plt.scatter(data_train['SibSp'], data_train['Parch'])"
   ]
  },
  {
   "cell_type": "markdown",
   "metadata": {
    "_cell_guid": "2bf5c86c-f3ad-7fdc-2573-c6fb623b3661"
   },
   "source": [
    "It seems that SibSp and Parch features are quite independent"
   ]
  },
  {
   "cell_type": "markdown",
   "metadata": {
    "_cell_guid": "394c00d0-6d6a-d2e7-39f4-9afe9af2bcc7"
   },
   "source": [
    "### Fare"
   ]
  },
  {
   "cell_type": "code",
   "execution_count": 21,
   "metadata": {
    "_cell_guid": "9427ff3e-f7cb-1881-8bf3-e99c9aa35cf0",
    "collapsed": false
   },
   "outputs": [
    {
     "data": {
      "text/plain": [
       "<matplotlib.text.Text at 0x118e0a748>"
      ]
     },
     "execution_count": 21,
     "metadata": {},
     "output_type": "execute_result"
    },
    {
     "data": {
      "image/png": "[encoded data removed]",
      "text/plain": [
       "<matplotlib.figure.Figure at 0x118d0b860>"
      ]
     },
     "metadata": {},
     "output_type": "display_data"
    }
   ],
   "source": [
    "plt.figure(figsize=(9,3))\n",
    "data_train[data_train.Survived==1]['Fare'].plot(kind='density', label='Survived')\n",
    "data_train[data_train.Survived==0]['Fare'].plot(kind='density', label='Died')\n",
    "plt.xlabel('Fare')\n",
    "plt.legend()\n",
    "plt.title('Fare distribution')"
   ]
  },
  {
   "cell_type": "code",
   "execution_count": 22,
   "metadata": {
    "_cell_guid": "e98c8392-273e-2c9e-62cc-11c29c050ddf",
    "collapsed": false
   },
   "outputs": [
    {
     "data": {
      "text/plain": [
       "[<matplotlib.text.Text at 0x119059898>, <matplotlib.text.Text at 0x119062358>]"
      ]
     },
     "execution_count": 22,
     "metadata": {},
     "output_type": "execute_result"
    },
    {
     "data": {
      "image/png": "[encoded data removed]",
      "text/plain": [
       "<matplotlib.figure.Figure at 0x118e6aef0>"
      ]
     },
     "metadata": {},
     "output_type": "display_data"
    }
   ],
   "source": [
    "fig, axes = plt.subplots(nrows=2, ncols=2, figsize=(9, 9))\n",
    "\n",
    "subplt = data_train[data_train.Fare<=10.]['Survived'].value_counts().sort_index().plot(kind='bar', ax=axes[0, 0])\n",
    "subplt.set_title('Fare < 10')\n",
    "subplt.set_ylabel('count')\n",
    "subplt.set_xticklabels(['Died', 'Survived'])\n",
    "\n",
    "subplt = data_train[(data_train.Fare>10.0) & (data_train.Fare<=50.0)]['Survived'].value_counts().sort_index().plot(kind='bar', ax=axes[0, 1])\n",
    "subplt.set_title('Fare from 10 to 50')\n",
    "subplt.set_ylabel('count')\n",
    "subplt.set_xticklabels(['Died', 'Survived'])\n",
    "\n",
    "subplt = data_train[(data_train.Fare>50.0) & (data_train.Fare<=100.0)]['Survived'].value_counts().sort_index().plot(kind='bar', ax=axes[1, 0])\n",
    "subplt.set_title('Fare from 50 to 100')\n",
    "subplt.set_ylabel('count')\n",
    "subplt.set_xticklabels(['Died', 'Survived'])\n",
    "\n",
    "subplt = data_train[data_train.Fare>100.0]['Survived'].value_counts().sort_index().plot(kind='bar', ax=axes[1, 1])\n",
    "subplt.set_title('Fare > 100')\n",
    "subplt.set_ylabel('count')\n",
    "subplt.set_xticklabels(['Died', 'Survived'])"
   ]
  },
  {
   "cell_type": "markdown",
   "metadata": {
    "_cell_guid": "127aad65-453b-dea8-cd19-30369df7677c"
   },
   "source": [
    "People with low fare had less chances of survival"
   ]
  },
  {
   "cell_type": "markdown",
   "metadata": {
    "_cell_guid": "32539f37-bde5-b03a-76c3-71c0a958f27f"
   },
   "source": [
    "We have one NaN value in test data so we can set it to mean (from both train and test datasets)"
   ]
  },
  {
   "cell_type": "code",
   "execution_count": 23,
   "metadata": {
    "_cell_guid": "5ecaac7b-24c6-bbed-245a-92ea0c6707cc",
    "collapsed": true
   },
   "outputs": [],
   "source": [
    "mean_fare = (data_train['Fare'].sum() + data_test['Fare'].sum()) / (data_train['Fare'].count() + data_test['Fare'].count())\n",
    "data_test['Fare'] = data_test['Fare'].fillna(mean_fare)"
   ]
  },
  {
   "cell_type": "markdown",
   "metadata": {
    "_cell_guid": "d961620a-8619-a825-094f-ec16e521daed"
   },
   "source": [
    "### Cabin"
   ]
  },
  {
   "cell_type": "code",
   "execution_count": 24,
   "metadata": {
    "_cell_guid": "ac34b501-845b-edf4-18bd-c838d81c6865",
    "collapsed": false
   },
   "outputs": [
    {
     "name": "stdout",
     "output_type": "stream",
     "text": [
      "687\n"
     ]
    }
   ],
   "source": [
    "print(data_train.Cabin.isnull().sum())"
   ]
  },
  {
   "cell_type": "markdown",
   "metadata": {
    "_cell_guid": "42cfd744-73f2-6262-5810-50bfa7b5b783"
   },
   "source": [
    "We can remove this column as about querter of objects have NaN values, so it has no influence on result."
   ]
  },
  {
   "cell_type": "code",
   "execution_count": 25,
   "metadata": {
    "_cell_guid": "43b06907-aacc-43ab-52d1-c292309fb3bb",
    "collapsed": true
   },
   "outputs": [],
   "source": [
    "data_train.drop(['Cabin'], axis=1, inplace=True)\n",
    "data_test.drop(['Cabin'], axis=1, inplace=True)"
   ]
  },
  {
   "cell_type": "markdown",
   "metadata": {
    "_cell_guid": "14adda7b-c86b-a02b-c6f5-4cf5d2426d8c"
   },
   "source": [
    "### Embarked"
   ]
  },
  {
   "cell_type": "code",
   "execution_count": 26,
   "metadata": {
    "_cell_guid": "706dbf89-91f6-7555-efbd-66033688b3d3",
    "collapsed": false
   },
   "outputs": [
    {
     "data": {
      "text/plain": [
       "S    644\n",
       "C    168\n",
       "Q     77\n",
       "Name: Embarked, dtype: int64"
      ]
     },
     "execution_count": 26,
     "metadata": {},
     "output_type": "execute_result"
    }
   ],
   "source": [
    "data_train['Embarked'].value_counts()"
   ]
  },
  {
   "cell_type": "code",
   "execution_count": 27,
   "metadata": {
    "_cell_guid": "2485821a-6886-e504-6793-e82b8c9a4df4",
    "collapsed": false
   },
   "outputs": [
    {
     "data": {
      "text/plain": [
       "[<matplotlib.text.Text at 0x1193b0978>, <matplotlib.text.Text at 0x11934e0b8>]"
      ]
     },
     "execution_count": 27,
     "metadata": {},
     "output_type": "execute_result"
    },
    {
     "data": {
      "image/png": "[encoded data removed]",
      "text/plain": [
       "<matplotlib.figure.Figure at 0x115871fd0>"
      ]
     },
     "metadata": {},
     "output_type": "display_data"
    }
   ],
   "source": [
    "fig, axes = plt.subplots(nrows=1, ncols=3, figsize=(9, 2.5))\n",
    "\n",
    "subplt = data_train[data_train.Embarked=='S']['Survived'].value_counts().sort_index().plot(kind='bar', ax=axes[0], color='blue')\n",
    "subplt.set_title('S')\n",
    "subplt.set_ylabel('count')\n",
    "subplt.set_xticklabels(['Died', 'Survived'])\n",
    "\n",
    "subplt = data_train[data_train.Embarked=='C']['Survived'].value_counts().sort_index().plot(kind='bar', ax=axes[1], color='green')\n",
    "subplt.set_title('C')\n",
    "subplt.set_ylabel('count')\n",
    "subplt.set_xticklabels(['Died', 'Survived'])\n",
    "\n",
    "subplt = data_train[data_train.Embarked=='Q']['Survived'].value_counts().sort_index().plot(kind='bar', ax=axes[2], color='pink')\n",
    "subplt.set_title('Q')\n",
    "subplt.set_ylabel('count')\n",
    "subplt.set_xticklabels(['Died', 'Survived'])"
   ]
  },
  {
   "cell_type": "markdown",
   "metadata": {
    "_cell_guid": "d6fe6e15-2855-7411-546a-87b467f5709e"
   },
   "source": [
    "There are only two NaN values, so leave them as it is. Later they will disappeared after binary encoding "
   ]
  },
  {
   "cell_type": "markdown",
   "metadata": {
    "_cell_guid": "01f56774-5609-ab31-3d1e-bc85fb2bdefb"
   },
   "source": [
    "## Preprocess data"
   ]
  },
  {
   "cell_type": "markdown",
   "metadata": {
    "_cell_guid": "2c040cf2-eef9-13f3-8131-66236e5a153c"
   },
   "source": [
    "### Binary encoding of categorial features"
   ]
  },
  {
   "cell_type": "markdown",
   "metadata": {
    "_cell_guid": "cb2f104a-2aab-2e01-2a48-e992ee410778"
   },
   "source": [
    "Let's make binary encoding of categorial features: Sex, Pclass, Embarked"
   ]
  },
  {
   "cell_type": "code",
   "execution_count": 28,
   "metadata": {
    "_cell_guid": "4dba7ec6-1f75-d15e-df91-063cb0cd6be3",
    "collapsed": true
   },
   "outputs": [],
   "source": [
    "# encode Sex feature\n",
    "data_train.Sex = np.where(data_train.Sex=='male', 1, 0)\n",
    "data_test.Sex = np.where(data_test.Sex=='male', 1, 0)"
   ]
  },
  {
   "cell_type": "code",
   "execution_count": 29,
   "metadata": {
    "_cell_guid": "eb1cd0d7-0774-3870-4c1c-312a4fe576b7",
    "collapsed": true
   },
   "outputs": [],
   "source": [
    "# encode Pclass & Embarked feature\n",
    "data_train = pd.get_dummies(data=data_train, columns=['Pclass', 'Embarked'])\n",
    "data_test = pd.get_dummies(data=data_test, columns=['Pclass', 'Embarked'])"
   ]
  },
  {
   "cell_type": "code",
   "execution_count": 30,
   "metadata": {
    "_cell_guid": "ba464825-0f33-511b-c532-97a040aeae15",
    "collapsed": false
   },
   "outputs": [
    {
     "name": "stdout",
     "output_type": "stream",
     "text": [
      "<class 'pandas.core.frame.DataFrame'>\n",
      "RangeIndex: 891 entries, 0 to 890\n",
      "Data columns (total 12 columns):\n",
      "Survived      891 non-null int64\n",
      "Sex           891 non-null int64\n",
      "Age           891 non-null float64\n",
      "SibSp         891 non-null int64\n",
      "Parch         891 non-null int64\n",
      "Fare          891 non-null float64\n",
      "Pclass_1      891 non-null uint8\n",
      "Pclass_2      891 non-null uint8\n",
      "Pclass_3      891 non-null uint8\n",
      "Embarked_C    891 non-null uint8\n",
      "Embarked_Q    891 non-null uint8\n",
      "Embarked_S    891 non-null uint8\n",
      "dtypes: float64(2), int64(4), uint8(6)\n",
      "memory usage: 47.1 KB\n",
      "None\n",
      "<class 'pandas.core.frame.DataFrame'>\n",
      "RangeIndex: 418 entries, 0 to 417\n",
      "Data columns (total 11 columns):\n",
      "Sex           418 non-null int64\n",
      "Age           418 non-null float64\n",
      "SibSp         418 non-null int64\n",
      "Parch         418 non-null int64\n",
      "Fare          418 non-null float64\n",
      "Pclass_1      418 non-null uint8\n",
      "Pclass_2      418 non-null uint8\n",
      "Pclass_3      418 non-null uint8\n",
      "Embarked_C    418 non-null uint8\n",
      "Embarked_Q    418 non-null uint8\n",
      "Embarked_S    418 non-null uint8\n",
      "dtypes: float64(2), int64(3), uint8(6)\n",
      "memory usage: 18.9 KB\n",
      "None\n"
     ]
    }
   ],
   "source": [
    "print(data_train.info())\n",
    "print(data_test.info())"
   ]
  },
  {
   "cell_type": "markdown",
   "metadata": {
    "_cell_guid": "5aa9adb9-9690-084f-dc5b-0421ccee9891"
   },
   "source": [
    "### Scaling real features"
   ]
  },
  {
   "cell_type": "code",
   "execution_count": 31,
   "metadata": {
    "_cell_guid": "9b9dbdf3-a2af-0a9e-17c4-07b6cca716c8",
    "collapsed": false
   },
   "outputs": [
    {
     "data": {
      "image/png": "[encoded data removed]",
      "text/plain": [
       "<matplotlib.figure.Figure at 0x11577dac8>"
      ]
     },
     "metadata": {},
     "output_type": "display_data"
    }
   ],
   "source": [
    "# Check before scaling\n",
    "pd.tools.plotting.scatter_matrix(data_train[['Age', 'Fare']], alpha=0.5, figsize=(7, 7))\n",
    "plt.suptitle('Age and Fare before scaling')\n",
    "plt.show()"
   ]
  },
  {
   "cell_type": "markdown",
   "metadata": {
    "_cell_guid": "796dc91a-a5a4-a33a-13e0-8767b1f5ea3e"
   },
   "source": [
    "We can see that real features, Age and Fare, have different scale."
   ]
  },
  {
   "cell_type": "code",
   "execution_count": 32,
   "metadata": {
    "_cell_guid": "5018afca-ae9e-3e1f-007d-0e27760c74d3",
    "collapsed": false
   },
   "outputs": [],
   "source": [
    "scaler = preprocessing.StandardScaler()\n",
    "data_train[['Age', 'Fare']] = scaler.fit_transform(data_train[['Age', 'Fare']])\n",
    "data_test[['Age', 'Fare']] = scaler.transform(data_test[['Age', 'Fare']])"
   ]
  },
  {
   "cell_type": "code",
   "execution_count": 33,
   "metadata": {
    "_cell_guid": "912f6833-2921-891c-057e-e4c549f8c9f9",
    "collapsed": false
   },
   "outputs": [
    {
     "data": {
      "image/png": "[encoded data removed]",
      "text/plain": [
       "<matplotlib.figure.Figure at 0x11577dc88>"
      ]
     },
     "metadata": {},
     "output_type": "display_data"
    }
   ],
   "source": [
    "# Check after scaling\n",
    "pd.tools.plotting.scatter_matrix(data_train[['Age', 'Fare']], alpha=0.5, figsize=(7, 7))\n",
    "plt.suptitle('Age and Fare after scaling')\n",
    "plt.show()"
   ]
  },
  {
   "cell_type": "markdown",
   "metadata": {
    "_cell_guid": "54a7c2e4-4948-46c7-9e30-12dc4403d130"
   },
   "source": [
    "## Chosing classifier "
   ]
  },
  {
   "cell_type": "code",
   "execution_count": 34,
   "metadata": {
    "_cell_guid": "9c6ecda8-c6a5-e7ab-9aa7-f2c32eb65465",
    "collapsed": true
   },
   "outputs": [],
   "source": [
    "# Extract features (X) and labels (y) from data\n",
    "X = data_train[data_train.columns[1:]]\n",
    "y = data_train[data_train.columns[0]]"
   ]
  },
  {
   "cell_type": "markdown",
   "metadata": {
    "_cell_guid": "dff3d593-8202-7def-9db2-c7c506aa4152"
   },
   "source": [
    "### Logistic regression"
   ]
  },
  {
   "cell_type": "code",
   "execution_count": 35,
   "metadata": {
    "_cell_guid": "9a65c49c-d98e-bcc7-980d-7a4bbe47f41d",
    "collapsed": false
   },
   "outputs": [
    {
     "data": {
      "text/plain": [
       "GridSearchCV(cv=4, error_score='raise',\n",
       "       estimator=LogisticRegression(C=1.0, class_weight=None, dual=False, fit_intercept=True,\n",
       "          intercept_scaling=1, max_iter=100, multi_class='ovr', n_jobs=1,\n",
       "          penalty='l2', random_state=None, solver='liblinear', tol=0.0001,\n",
       "          verbose=0, warm_start=False),\n",
       "       fit_params={}, iid=True, n_jobs=1,\n",
       "       param_grid={'C': [0.01, 0.05, 0.1, 0.5, 1], 'penalty': ['l1', 'l2']},\n",
       "       pre_dispatch='2*n_jobs', refit=True, scoring=None, verbose=0)"
      ]
     },
     "execution_count": 35,
     "metadata": {},
     "output_type": "execute_result"
    }
   ],
   "source": [
    "# Finding optimal parameters of the classifier\n",
    "param_grid = {\n",
    "              'C': [0.01, 0.05, 0.1, 0.5, 1],\n",
    "              'penalty': ['l1', 'l2']\n",
    "             }\n",
    "estimator = linear_model.LogisticRegression()\n",
    "lr_gs = grid_search.GridSearchCV(estimator, param_grid, cv=4)\n",
    "lr_gs.fit(X, y)"
   ]
  },
  {
   "cell_type": "code",
   "execution_count": 36,
   "metadata": {
    "_cell_guid": "f48a3532-a995-bd97-b5b4-683c91f09ba7",
    "collapsed": false
   },
   "outputs": [
    {
     "name": "stdout",
     "output_type": "stream",
     "text": [
      "{'C': 0.1, 'penalty': 'l2'}\n",
      "0.7946127946127947\n"
     ]
    }
   ],
   "source": [
    "lr_estimator = lr_gs.best_estimator_\n",
    "print(lr_gs.best_params_)\n",
    "print(lr_gs.best_score_)"
   ]
  },
  {
   "cell_type": "markdown",
   "metadata": {
    "_cell_guid": "ba6980f2-41f4-2ea4-1bad-51458446b66f"
   },
   "source": [
    "### K Nearest Neighbors"
   ]
  },
  {
   "cell_type": "code",
   "execution_count": 37,
   "metadata": {
    "_cell_guid": "18fc8658-9cac-7b3e-6199-eeee7993f491",
    "collapsed": false
   },
   "outputs": [
    {
     "data": {
      "text/plain": [
       "GridSearchCV(cv=4, error_score='raise',\n",
       "       estimator=KNeighborsClassifier(algorithm='auto', leaf_size=30, metric='minkowski',\n",
       "           metric_params=None, n_jobs=1, n_neighbors=5, p=2,\n",
       "           weights='uniform'),\n",
       "       fit_params={}, iid=True, n_jobs=1,\n",
       "       param_grid={'n_neighbors': [1, 3, 5, 7, 9, 11, 13], 'weights': ['uniform', 'distance'], 'p': [1, 2]},\n",
       "       pre_dispatch='2*n_jobs', refit=True, scoring=None, verbose=0)"
      ]
     },
     "execution_count": 37,
     "metadata": {},
     "output_type": "execute_result"
    }
   ],
   "source": [
    "# Finding optimal parameters of the classifier\n",
    "param_grid = {\n",
    "              'n_neighbors': [1, 3, 5, 7, 9, 11, 13],\n",
    "              'weights': ['uniform', 'distance'],\n",
    "              'p': [1, 2]\n",
    "             }\n",
    "estimator = neighbors.KNeighborsClassifier()\n",
    "knn_gs = grid_search.GridSearchCV(estimator, param_grid, cv=4)\n",
    "knn_gs.fit(X, y)"
   ]
  },
  {
   "cell_type": "code",
   "execution_count": 38,
   "metadata": {
    "_cell_guid": "f30c5450-ce8c-6700-deee-73fcb792c455",
    "collapsed": false
   },
   "outputs": [
    {
     "name": "stdout",
     "output_type": "stream",
     "text": [
      "{'n_neighbors': 7, 'p': 1, 'weights': 'uniform'}\n",
      "0.7934904601571269\n"
     ]
    }
   ],
   "source": [
    "knn_estimator = knn_gs.best_estimator_\n",
    "print(knn_gs.best_params_)\n",
    "print(knn_gs.best_score_)"
   ]
  },
  {
   "cell_type": "markdown",
   "metadata": {
    "_cell_guid": "3943fc5e-0257-908e-d44b-0cb50121cf3f"
   },
   "source": [
    "### Support Vector Machine"
   ]
  },
  {
   "cell_type": "code",
   "execution_count": 39,
   "metadata": {
    "_cell_guid": "0b2941ba-052d-954b-b31d-e5fed7ee9bf3",
    "collapsed": false
   },
   "outputs": [
    {
     "data": {
      "text/plain": [
       "GridSearchCV(cv=4, error_score='raise',\n",
       "       estimator=SVC(C=1.0, cache_size=200, class_weight=None, coef0=0.0,\n",
       "  decision_function_shape=None, degree=3, gamma='auto', kernel='rbf',\n",
       "  max_iter=-1, probability=False, random_state=None, shrinking=True,\n",
       "  tol=0.001, verbose=False),\n",
       "       fit_params={}, iid=True, n_jobs=1,\n",
       "       param_grid={'C': [0.5, 1, 2, 4, 10, 20], 'kernel': ['linear', 'poly', 'rbf']},\n",
       "       pre_dispatch='2*n_jobs', refit=True, scoring=None, verbose=0)"
      ]
     },
     "execution_count": 39,
     "metadata": {},
     "output_type": "execute_result"
    }
   ],
   "source": [
    "# Finding optimal parameters of the classifier\n",
    "param_grid = {\n",
    "              'C': [0.5, 1, 2, 4, 10, 20],\n",
    "              'kernel': ['linear', 'poly', 'rbf'],\n",
    "             }\n",
    "estimator = svm.SVC()\n",
    "svc_gs = grid_search.GridSearchCV(estimator, param_grid, cv=4)\n",
    "svc_gs.fit(X, y)"
   ]
  },
  {
   "cell_type": "code",
   "execution_count": 40,
   "metadata": {
    "_cell_guid": "2a693528-3078-60f7-b5ec-107fb4e883e5",
    "collapsed": false
   },
   "outputs": [
    {
     "name": "stdout",
     "output_type": "stream",
     "text": [
      "{'C': 20, 'kernel': 'poly'}\n",
      "0.8282828282828283\n"
     ]
    }
   ],
   "source": [
    "svc_estimator = svc_gs.best_estimator_\n",
    "print(svc_gs.best_params_)\n",
    "print(svc_gs.best_score_)"
   ]
  },
  {
   "cell_type": "markdown",
   "metadata": {
    "_cell_guid": "5e63b342-7997-8f0e-ab75-d82ba7e08eb7"
   },
   "source": [
    "### Random Forest"
   ]
  },
  {
   "cell_type": "code",
   "execution_count": 41,
   "metadata": {
    "_cell_guid": "ee641ecd-249d-b361-9c52-5771df2fb19f",
    "collapsed": false
   },
   "outputs": [
    {
     "data": {
      "text/plain": [
       "GridSearchCV(cv=4, error_score='raise',\n",
       "       estimator=RandomForestClassifier(bootstrap=True, class_weight=None, criterion='gini',\n",
       "            max_depth=None, max_features='auto', max_leaf_nodes=None,\n",
       "            min_impurity_split=1e-07, min_samples_leaf=1,\n",
       "            min_samples_split=2, min_weight_fraction_leaf=0.0,\n",
       "            n_estimators=10, n_jobs=1, oob_score=False, random_state=None,\n",
       "            verbose=0, warm_start=False),\n",
       "       fit_params={}, iid=True, n_jobs=1,\n",
       "       param_grid={'n_estimators': [50, 100, 500], 'min_samples_leaf': [1, 3, 5]},\n",
       "       pre_dispatch='2*n_jobs', refit=True, scoring=None, verbose=0)"
      ]
     },
     "execution_count": 41,
     "metadata": {},
     "output_type": "execute_result"
    }
   ],
   "source": [
    "# Finding optimal parameters of the classifier\n",
    "param_grid = {\n",
    "              'n_estimators': [50, 100, 500],\n",
    "              'min_samples_leaf': [1, 3, 5]\n",
    "             }\n",
    "estimator = ensemble.RandomForestClassifier()\n",
    "rf_gs = grid_search.GridSearchCV(estimator, param_grid, cv=4)\n",
    "rf_gs.fit(X, y)"
   ]
  },
  {
   "cell_type": "code",
   "execution_count": 42,
   "metadata": {
    "_cell_guid": "8d365c31-faa2-8c0a-8099-125f326302e1",
    "collapsed": false
   },
   "outputs": [
    {
     "name": "stdout",
     "output_type": "stream",
     "text": [
      "{'min_samples_leaf': 5, 'n_estimators': 100}\n",
      "0.813692480359147\n"
     ]
    }
   ],
   "source": [
    "rf_estimator = rf_gs.best_estimator_\n",
    "print(rf_gs.best_params_)\n",
    "print(rf_gs.best_score_)"
   ]
  },
  {
   "cell_type": "code",
   "execution_count": 43,
   "metadata": {
    "_cell_guid": "07e75c90-6f3a-9133-694f-2740d97ce4dc",
    "collapsed": false
   },
   "outputs": [
    {
     "data": {
      "text/plain": [
       "<matplotlib.text.Text at 0x119a645c0>"
      ]
     },
     "execution_count": 43,
     "metadata": {},
     "output_type": "execute_result"
    },
    {
     "data": {
      "image/png": "[encoded data removed]",
      "text/plain": [
       "<matplotlib.figure.Figure at 0x119980128>"
      ]
     },
     "metadata": {},
     "output_type": "display_data"
    }
   ],
   "source": [
    "# display feature importance\n",
    "plt.figure(figsize=(8,5))\n",
    "plt.barh(np.arange(X.shape[1]), rf_estimator.feature_importances_, align='center')\n",
    "plt.yticks(np.arange(X.shape[1]), X.columns)\n",
    "plt.title('Feature importance')"
   ]
  },
  {
   "cell_type": "markdown",
   "metadata": {
    "_cell_guid": "e8f4c584-10e9-25af-a7c7-dc5be66a8578"
   },
   "source": [
    "### Comparing models"
   ]
  },
  {
   "cell_type": "code",
   "execution_count": 44,
   "metadata": {
    "_cell_guid": "5c8c597d-7a1a-f576-87b3-35b814705ead",
    "collapsed": false
   },
   "outputs": [
    {
     "data": {
      "text/plain": [
       "<matplotlib.text.Text at 0x11576af60>"
      ]
     },
     "execution_count": 44,
     "metadata": {},
     "output_type": "execute_result"
    },
    {
     "data": {
      "image/png": "[encoded data removed]",
      "text/plain": [
       "<matplotlib.figure.Figure at 0x119653cf8>"
      ]
     },
     "metadata": {},
     "output_type": "display_data"
    }
   ],
   "source": [
    "estimators = [lr_gs, knn_gs, svc_gs, rf_gs]\n",
    "labels = ['Logistic regression', 'KNN', 'SVC', 'Random Forest']\n",
    "\n",
    "plt.figure(figsize=(8,4))\n",
    "plt.barh(np.arange(4.), list(map(lambda e: e.best_score_, estimators)), align='center')\n",
    "plt.yticks(np.arange(4.), labels)\n",
    "plt.xlim(0.7, 0.9)\n",
    "plt.title('Models comparison')"
   ]
  },
  {
   "cell_type": "markdown",
   "metadata": {
    "_cell_guid": "d7493831-0d2a-589b-57dd-0ceff6f9da3c"
   },
   "source": [
    "The best classifier is SVC with radial kernel, C = 4."
   ]
  },
  {
   "cell_type": "code",
   "execution_count": 45,
   "metadata": {
    "_cell_guid": "524298d7-45ca-e084-5a64-65803e8c36c2",
    "collapsed": false
   },
   "outputs": [],
   "source": [
    "estimator = svc_estimator"
   ]
  },
  {
   "cell_type": "markdown",
   "metadata": {
    "_cell_guid": "783cc105-0d51-0339-57e6-ae4cabf96901"
   },
   "source": [
    "## Predict and submit"
   ]
  },
  {
   "cell_type": "code",
   "execution_count": 51,
   "metadata": {
    "_cell_guid": "201844f9-fb60-a019-9265-72bec0b18cb2",
    "collapsed": false
   },
   "outputs": [
    {
     "name": "stdout",
     "output_type": "stream",
     "text": [
      "     PassengerId\n",
      "0            892\n",
      "1            893\n",
      "2            894\n",
      "3            895\n",
      "4            896\n",
      "5            897\n",
      "6            898\n",
      "7            899\n",
      "8            900\n",
      "9            901\n",
      "10           902\n",
      "11           903\n",
      "12           904\n",
      "13           905\n",
      "14           906\n",
      "15           907\n",
      "16           908\n",
      "17           909\n",
      "18           910\n",
      "19           911\n",
      "20           912\n",
      "21           913\n",
      "22           914\n",
      "23           915\n",
      "24           916\n",
      "25           917\n",
      "26           918\n",
      "27           919\n",
      "28           920\n",
      "29           921\n",
      "..           ...\n",
      "388         1280\n",
      "389         1281\n",
      "390         1282\n",
      "391         1283\n",
      "392         1284\n",
      "393         1285\n",
      "394         1286\n",
      "395         1287\n",
      "396         1288\n",
      "397         1289\n",
      "398         1290\n",
      "399         1291\n",
      "400         1292\n",
      "401         1293\n",
      "402         1294\n",
      "403         1295\n",
      "404         1296\n",
      "405         1297\n",
      "406         1298\n",
      "407         1299\n",
      "408         1300\n",
      "409         1301\n",
      "410         1302\n",
      "411         1303\n",
      "412         1304\n",
      "413         1305\n",
      "414         1306\n",
      "415         1307\n",
      "416         1308\n",
      "417         1309\n",
      "\n",
      "[418 rows x 1 columns]\n"
     ]
    },
    {
     "data": {
      "text/html": [
       "<div>\n",
       "<table border=\"1\" class=\"dataframe\">\n",
       "  <thead>\n",
       "    <tr style=\"text-align: right;\">\n",
       "      <th></th>\n",
       "      <th>PassengerID</th>\n",
       "      <th>Survived</th>\n",
       "    </tr>\n",
       "  </thead>\n",
       "  <tbody>\n",
       "    <tr>\n",
       "      <th>0</th>\n",
       "      <td>892</td>\n",
       "      <td>0</td>\n",
       "    </tr>\n",
       "    <tr>\n",
       "      <th>1</th>\n",
       "      <td>893</td>\n",
       "      <td>0</td>\n",
       "    </tr>\n",
       "    <tr>\n",
       "      <th>2</th>\n",
       "      <td>894</td>\n",
       "      <td>0</td>\n",
       "    </tr>\n",
       "    <tr>\n",
       "      <th>3</th>\n",
       "      <td>895</td>\n",
       "      <td>0</td>\n",
       "    </tr>\n",
       "    <tr>\n",
       "      <th>4</th>\n",
       "      <td>896</td>\n",
       "      <td>0</td>\n",
       "    </tr>\n",
       "  </tbody>\n",
       "</table>\n",
       "</div>"
      ],
      "text/plain": [
       "   PassengerID  Survived\n",
       "0          892         0\n",
       "1          893         0\n",
       "2          894         0\n",
       "3          895         0\n",
       "4          896         0"
      ]
     },
     "execution_count": 51,
     "metadata": {},
     "output_type": "execute_result"
    }
   ],
   "source": [
    "y_test = estimator.predict(data_test)\n",
    "#print(pass_ids);\n",
    "result_df = pd.DataFrame(columns=['PassengerID', 'Survived'])\n",
    "print(pass_ids);\n",
    "result_df.PassengerID = pass_ids\n",
    "#print(result_df)\n",
    "result_df.Survived = y_test\n",
    "result_df.head()"
   ]
  },
  {
   "cell_type": "code",
   "execution_count": null,
   "metadata": {
    "_cell_guid": "2267b3de-872f-f342-f82c-12ddde1cb4c3",
    "collapsed": true
   },
   "outputs": [],
   "source": [
    "result_df.to_csv('titanic_results.csv', index=False)"
   ]
  },
  {
   "cell_type": "code",
   "execution_count": null,
   "metadata": {
    "collapsed": true
   },
   "outputs": [],
   "source": []
  }
 ],
 "metadata": {
  "_change_revision": 251,
  "_is_fork": false,
  "anaconda-cloud": {},
  "kernelspec": {
   "display_name": "Python 3",
   "language": "python",
   "name": "python3"
  },
  "language_info": {
   "codemirror_mode": {
    "name": "ipython",
    "version": 3
   },
   "file_extension": ".py",
   "mimetype": "text/x-python",
   "name": "python",
   "nbconvert_exporter": "python",
   "pygments_lexer": "ipython3",
   "version": "3.6.0"
  }
 },
 "nbformat": 4,
 "nbformat_minor": 0
}
